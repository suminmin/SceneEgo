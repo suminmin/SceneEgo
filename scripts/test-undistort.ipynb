{
 "cells": [
  {
   "cell_type": "code",
   "execution_count": 1,
   "metadata": {},
   "outputs": [],
   "source": [
    "import sys\n",
    "sys.path.append(\"../\")"
   ]
  },
  {
   "cell_type": "code",
   "execution_count": 2,
   "metadata": {},
   "outputs": [
    {
     "name": "stdout",
     "output_type": "stream",
     "text": [
      "Jupyter environment detected. Enabling Open3D WebVisualizer.\n",
      "[Open3D INFO] WebRTC GUI backend enabled.\n",
      "[Open3D INFO] WebRTCWindowSystem: HTTP handshake server disabled.\n"
     ]
    }
   ],
   "source": [
    "import os\n",
    "os.environ[\"OPENCV_IO_ENABLE_OPENEXR\"] = \"1\"\n",
    "import pickle\n",
    "import open3d"
   ]
  },
  {
   "cell_type": "code",
   "execution_count": 8,
   "metadata": {},
   "outputs": [],
   "source": [
    "from utils.skeleton import Skeleton\n",
    "\n",
    "from utils.depth2pointcloud import Depth2PointCloud"
   ]
  },
  {
   "cell_type": "code",
   "execution_count": 17,
   "metadata": {},
   "outputs": [],
   "source": [
    "def visualize(img_path, depth_path, pred_pose_path):\n",
    "    skeleton = Skeleton(calibration_path='../utils/fisheye/fisheye.calibration_05_08.json')\n",
    "\n",
    "    # with open(pred_pose_path, 'rb') as f:\n",
    "    #     predicted_pose = pickle.load(f)\n",
    "\n",
    "    # predicted_pose_mesh = skeleton.joints_2_mesh(predicted_pose)\n",
    "\n",
    "    get_point_cloud = Depth2PointCloud(visualization=False,\n",
    "                                       camera_model='../utils/fisheye/fisheye.calibration_05_08.json')\n",
    "\n",
    "    scene = get_point_cloud.get_point_cloud_single_image(depth_path, img_path, output_path=None)\n",
    "\n",
    "    # open3d.visualization.draw_geometries([scene, predicted_pose_mesh])\n",
    "    open3d.visualization.draw_geometries([scene])"
   ]
  },
  {
   "cell_type": "code",
   "execution_count": 18,
   "metadata": {},
   "outputs": [],
   "source": [
    "img_path = \"../data/demo/imgs/img_001000.jpg\"\n",
    "depth_path = \"../data/demo/depths/img_001000.jpg.exr\""
   ]
  },
  {
   "cell_type": "code",
   "execution_count": null,
   "metadata": {},
   "outputs": [],
   "source": []
  },
  {
   "cell_type": "code",
   "execution_count": 19,
   "metadata": {},
   "outputs": [],
   "source": [
    "visualize(img_path, depth_path, None)"
   ]
  },
  {
   "cell_type": "code",
   "execution_count": null,
   "metadata": {},
   "outputs": [],
   "source": []
  }
 ],
 "metadata": {
  "kernelspec": {
   "display_name": "pytorch160",
   "language": "python",
   "name": "python3"
  },
  "language_info": {
   "codemirror_mode": {
    "name": "ipython",
    "version": 3
   },
   "file_extension": ".py",
   "mimetype": "text/x-python",
   "name": "python",
   "nbconvert_exporter": "python",
   "pygments_lexer": "ipython3",
   "version": "3.9.13"
  },
  "orig_nbformat": 4
 },
 "nbformat": 4,
 "nbformat_minor": 2
}
